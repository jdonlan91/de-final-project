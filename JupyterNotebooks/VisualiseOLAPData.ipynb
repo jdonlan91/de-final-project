{
 "cells": [
  {
   "cell_type": "code",
   "execution_count": 1,
   "id": "bc28eb1a-698f-4d91-8ec8-b6234396c915",
   "metadata": {},
   "outputs": [],
   "source": [
    "from pg8000.native import Connection\n",
    "import json\n",
    "import boto3\n",
    "from datetime import datetime\n",
    "import pandas as pd\n",
    "from matplotlib import pyplot as plt\n",
    "import seaborn as sns"
   ]
  },
  {
   "cell_type": "code",
   "execution_count": null,
   "id": "a703f92d-041d-4785-b9ec-d7714abf422c",
   "metadata": {},
   "outputs": [],
   "source": []
  },
  {
   "cell_type": "code",
   "execution_count": 2,
   "id": "61ef5922-4fcb-46ff-bfbd-4a1bbc08d5ec",
   "metadata": {
    "jupyter": {
     "source_hidden": true
    }
   },
   "outputs": [],
   "source": [
    "#useful functions\n",
    "def get_db_credentials():\n",
    "    secret_name = \"postgres_db_credentials\"\n",
    "    region_name = \"eu-west-2\"\n",
    "\n",
    "    session = boto3.session.Session()\n",
    "    client = session.client(service_name=\"secretsmanager\",\n",
    "                            region_name=region_name)\n",
    "\n",
    "    get_secret_value_response = client.get_secret_value(SecretId=secret_name)\n",
    "\n",
    "    secret = json.loads(get_secret_value_response[\"SecretString\"])\n",
    "    db_credentials = {}\n",
    "    db_credentials[\"DB_HOST\"] = secret[\"host\"]\n",
    "    db_credentials[\"DB_USERNAME\"] = secret[\"username\"]\n",
    "    db_credentials[\"DB_PASSWORD\"] = secret[\"password\"]\n",
    "    db_credentials[\"DB_NAME\"] = secret[\"dbname\"]\n",
    "\n",
    "    return db_credentials\n",
    "\n",
    "def create_connection(db_credentials):\n",
    "    return Connection(\n",
    "        user=db_credentials[\"DB_USERNAME\"],\n",
    "        password=db_credentials[\"DB_PASSWORD\"],\n",
    "        host=db_credentials[\"DB_HOST\"],\n",
    "        database=db_credentials[\"DB_NAME\"])\n",
    "\n",
    "def convert_lists_to_dicts(list_of_lists, keys):\n",
    "    list_of_dicts = []\n",
    "\n",
    "    for row in list_of_lists:\n",
    "        row_as_dict = {\n",
    "            keys[i]: cell.isoformat(sep=\" \", timespec=\"milliseconds\")\n",
    "            if type(cell) is datetime\n",
    "            else cell for i,\n",
    "            cell in enumerate(row)\n",
    "        }\n",
    "        list_of_dicts.append(row_as_dict)\n",
    "\n",
    "    return list_of_dicts"
   ]
  },
  {
   "cell_type": "code",
   "execution_count": 3,
   "id": "0dbeb9e3-2c69-4dca-9bfa-4c7aa4df3cd7",
   "metadata": {
    "jupyter": {
     "source_hidden": true
    }
   },
   "outputs": [],
   "source": [
    "db_credentials = get_db_credentials()\n",
    "conn = create_connection(db_credentials)"
   ]
  },
  {
   "cell_type": "code",
   "execution_count": 10,
   "id": "96a79bff-cea8-484e-9f45-d16fdd20cd27",
   "metadata": {},
   "outputs": [],
   "source": [
    "query_result = conn.run(\"\"\"\n",
    "select month, sum(units_sold)\n",
    "from fact_sales_order fso\n",
    "join dim_date dd\n",
    "\ton fso.created_date = dd.date_id\n",
    "where year = 2023 and month != 11\n",
    "group by month\n",
    "order by month\n",
    "\"\"\"\n",
    "                       )"
   ]
  },
  {
   "cell_type": "code",
   "execution_count": 11,
   "id": "7f5a24b3-951a-4714-88d9-545663375be5",
   "metadata": {},
   "outputs": [
    {
     "data": {
      "text/html": [
       "<div>\n",
       "<style scoped>\n",
       "    .dataframe tbody tr th:only-of-type {\n",
       "        vertical-align: middle;\n",
       "    }\n",
       "\n",
       "    .dataframe tbody tr th {\n",
       "        vertical-align: top;\n",
       "    }\n",
       "\n",
       "    .dataframe thead th {\n",
       "        text-align: right;\n",
       "    }\n",
       "</style>\n",
       "<table border=\"1\" class=\"dataframe\">\n",
       "  <thead>\n",
       "    <tr style=\"text-align: right;\">\n",
       "      <th></th>\n",
       "      <th>month</th>\n",
       "      <th>sum</th>\n",
       "    </tr>\n",
       "  </thead>\n",
       "  <tbody>\n",
       "    <tr>\n",
       "      <th>0</th>\n",
       "      <td>1</td>\n",
       "      <td>20207498</td>\n",
       "    </tr>\n",
       "    <tr>\n",
       "      <th>1</th>\n",
       "      <td>2</td>\n",
       "      <td>22118020</td>\n",
       "    </tr>\n",
       "    <tr>\n",
       "      <th>2</th>\n",
       "      <td>3</td>\n",
       "      <td>25324457</td>\n",
       "    </tr>\n",
       "    <tr>\n",
       "      <th>3</th>\n",
       "      <td>4</td>\n",
       "      <td>22541033</td>\n",
       "    </tr>\n",
       "    <tr>\n",
       "      <th>4</th>\n",
       "      <td>5</td>\n",
       "      <td>25374930</td>\n",
       "    </tr>\n",
       "    <tr>\n",
       "      <th>5</th>\n",
       "      <td>6</td>\n",
       "      <td>26782557</td>\n",
       "    </tr>\n",
       "    <tr>\n",
       "      <th>6</th>\n",
       "      <td>7</td>\n",
       "      <td>23675144</td>\n",
       "    </tr>\n",
       "    <tr>\n",
       "      <th>7</th>\n",
       "      <td>8</td>\n",
       "      <td>24520940</td>\n",
       "    </tr>\n",
       "    <tr>\n",
       "      <th>8</th>\n",
       "      <td>9</td>\n",
       "      <td>25209038</td>\n",
       "    </tr>\n",
       "    <tr>\n",
       "      <th>9</th>\n",
       "      <td>10</td>\n",
       "      <td>25575805</td>\n",
       "    </tr>\n",
       "  </tbody>\n",
       "</table>\n",
       "</div>"
      ],
      "text/plain": [
       "   month       sum\n",
       "0      1  20207498\n",
       "1      2  22118020\n",
       "2      3  25324457\n",
       "3      4  22541033\n",
       "4      5  25374930\n",
       "5      6  26782557\n",
       "6      7  23675144\n",
       "7      8  24520940\n",
       "8      9  25209038\n",
       "9     10  25575805"
      ]
     },
     "execution_count": 11,
     "metadata": {},
     "output_type": "execute_result"
    }
   ],
   "source": [
    "column_names = [column[\"name\"] for column in conn.columns]\n",
    "list_of_dicts = convert_lists_to_dicts(query_result, column_names)\n",
    "dataframe = pd.DataFrame.from_records(list_of_dicts)\n",
    "dataframe"
   ]
  },
  {
   "cell_type": "code",
   "execution_count": 12,
   "id": "675af0b2-166e-448f-af19-ebb9bd7fdc0c",
   "metadata": {},
   "outputs": [
    {
     "data": {
      "text/plain": [
       "<Axes: xlabel='month', ylabel='sum'>"
      ]
     },
     "execution_count": 12,
     "metadata": {},
     "output_type": "execute_result"
    },
    {
     "data": {
      "image/png": "[encoded data removed]",
      "text/plain": [
       "<Figure size 640x480 with 1 Axes>"
      ]
     },
     "metadata": {},
     "output_type": "display_data"
    }
   ],
   "source": [
    "sns.barplot(data=dataframe, x = 'month', y='sum')"
   ]
  },
  {
   "cell_type": "code",
   "execution_count": null,
   "id": "4ab34475-faf6-43ed-ba9d-ebc7b16de37e",
   "metadata": {},
   "outputs": [],
   "source": []
  }
 ],
 "metadata": {
  "kernelspec": {
   "display_name": "Python 3 (ipykernel)",
   "language": "python",
   "name": "python3"
  },
  "language_info": {
   "codemirror_mode": {
    "name": "ipython",
    "version": 3
   },
   "file_extension": ".py",
   "mimetype": "text/x-python",
   "name": "python",
   "nbconvert_exporter": "python",
   "pygments_lexer": "ipython3",
   "version": "3.11.1"
  }
 },
 "nbformat": 4,
 "nbformat_minor": 5
}
